{
 "cells": [
  {
   "cell_type": "code",
   "execution_count": 1,
   "id": "95a508df",
   "metadata": {},
   "outputs": [],
   "source": [
    "import pandas as pd\n",
    "import numpy as np\n",
    "from sklearn import preprocessing\n",
    "from sklearn.model_selection import train_test_split, cross_val_score\n",
    "from sklearn.metrics import mean_squared_error\n",
    "from sklearn.linear_model import  LinearRegression, LassoCV, ElasticNetCV\n",
    "import matplotlib.pyplot as plt\n",
    "import seaborn as sns"
   ]
  },
  {
   "cell_type": "markdown",
   "id": "dab14495",
   "metadata": {},
   "source": [
    "# Modeles de prédiction"
   ]
  },
  {
   "cell_type": "markdown",
   "id": "3e4b6194",
   "metadata": {},
   "source": [
    "## Prédiction des ventes"
   ]
  },
  {
   "cell_type": "markdown",
   "id": "37d33d9f",
   "metadata": {},
   "source": [
    "### Prédiction avec le dataset de kaggle"
   ]
  },
  {
   "cell_type": "code",
   "execution_count": 2,
   "id": "58934ec8",
   "metadata": {},
   "outputs": [],
   "source": [
    "# Importation du dataframe\n",
    "df = pd.read_csv('vgsales.csv')"
   ]
  },
  {
   "cell_type": "code",
   "execution_count": 3,
   "id": "b8eda8f5",
   "metadata": {},
   "outputs": [
    {
     "name": "stdout",
     "output_type": "stream",
     "text": [
      "<class 'pandas.core.frame.DataFrame'>\n",
      "Int64Index: 16291 entries, 0 to 16597\n",
      "Data columns (total 5 columns):\n",
      " #   Column        Non-Null Count  Dtype  \n",
      "---  ------        --------------  -----  \n",
      " 0   Platform      16291 non-null  object \n",
      " 1   Year          16291 non-null  float64\n",
      " 2   Genre         16291 non-null  object \n",
      " 3   Publisher     16291 non-null  object \n",
      " 4   Global_Sales  16291 non-null  float64\n",
      "dtypes: float64(2), object(3)\n",
      "memory usage: 763.6+ KB\n"
     ]
    }
   ],
   "source": [
    "# Suppression des variables non utilisées et des lignes contenant des valeurs manquantes\n",
    "df = df.drop(['Rank', 'NA_Sales', 'EU_Sales', 'JP_Sales', 'Other_Sales', 'Name'], axis = 1)\n",
    "df = df.dropna()\n",
    "df.info()"
   ]
  },
  {
   "cell_type": "code",
   "execution_count": 4,
   "id": "b0360b08",
   "metadata": {},
   "outputs": [],
   "source": [
    "# Séparation de la variable cible et des features.\n",
    "target = df['Global_Sales']\n",
    "feats = df.drop('Global_Sales', axis = 1)"
   ]
  },
  {
   "cell_type": "code",
   "execution_count": 5,
   "id": "c7a9e022",
   "metadata": {},
   "outputs": [],
   "source": [
    "# Dichotomisation des variables catégorielles.\n",
    "feats = feats.join(pd.get_dummies(feats[['Platform', 'Genre', 'Publisher']]))\n",
    "feats = feats.drop(['Platform', 'Genre', 'Publisher'], axis = 1)"
   ]
  },
  {
   "cell_type": "code",
   "execution_count": 6,
   "id": "79050a7b",
   "metadata": {},
   "outputs": [],
   "source": [
    "# Séparation en jeu d'entrainement et de test.\n",
    "from sklearn.model_selection import train_test_split\n",
    "X_train, X_test, y_train, y_test = train_test_split(feats, target, test_size=0.2, random_state=50)"
   ]
  },
  {
   "cell_type": "code",
   "execution_count": 7,
   "id": "de251c22",
   "metadata": {},
   "outputs": [],
   "source": [
    "# Standardisation des données\n",
    "\n",
    "from sklearn import preprocessing\n",
    "scaler = preprocessing.MinMaxScaler()\n",
    "X_train = scaler.fit_transform(X_train)\n",
    "X_test = scaler.transform(X_test)\n",
    "\n",
    "y_train = pd.Series(scaler.fit_transform(y_train.values.reshape(-1, 1))[:, 0])\n",
    "y_test = pd.Series(scaler.transform(y_test.values.reshape(-1, 1))[:, 0])"
   ]
  },
  {
   "cell_type": "code",
   "execution_count": 8,
   "id": "327b0f27",
   "metadata": {},
   "outputs": [
    {
     "name": "stderr",
     "output_type": "stream",
     "text": [
      "C:\\Users\\Claudio\\anaconda3\\lib\\site-packages\\sklearn\\feature_selection\\_univariate_selection.py:301: RuntimeWarning: invalid value encountered in true_divide\n",
      "  corr /= X_norms\n"
     ]
    },
    {
     "data": {
      "text/plain": [
       "Index(['Year', 'Platform_2600', 'Platform_DC', 'Platform_DS', 'Platform_GB',\n",
       "       'Platform_GBA', 'Platform_GC', 'Platform_GEN', 'Platform_N64',\n",
       "       'Platform_NES',\n",
       "       ...\n",
       "       'Publisher_UEP Systems', 'Publisher_UFO Interactive',\n",
       "       'Publisher_Universal Interactive', 'Publisher_Unknown',\n",
       "       'Publisher_Vivendi Games',\n",
       "       'Publisher_Warner Bros. Interactive Entertainment', 'Publisher_Yeti',\n",
       "       'Publisher_Zoo Digital Publishing', 'Publisher_Zoo Games',\n",
       "       'Publisher_Zushi Games'],\n",
       "      dtype='object', length=150)"
      ]
     },
     "execution_count": 8,
     "metadata": {},
     "output_type": "execute_result"
    }
   ],
   "source": [
    "# Selection des 150 meilleures features\n",
    "\n",
    "# YANN : On peut ajouter une étude du score final selon le nombre de features retenu. On peut aussi essayer de comprendre \n",
    "# pourquoi certaines features ont plus d'importance que d'autres.\n",
    "\n",
    "from sklearn.feature_selection import SelectKBest\n",
    "from sklearn.feature_selection import f_regression\n",
    "\n",
    "sk = SelectKBest(f_regression, k=150)\n",
    "\n",
    "sk.fit(X_train, y_train)\n",
    "\n",
    "feats.columns[sk.get_support()]"
   ]
  },
  {
   "cell_type": "code",
   "execution_count": 9,
   "id": "eb4e2ff9",
   "metadata": {},
   "outputs": [],
   "source": [
    "sk_train = sk.transform(X_train)\n",
    "sk_test = sk.transform(X_test)"
   ]
  },
  {
   "cell_type": "code",
   "execution_count": 10,
   "id": "630b45a3",
   "metadata": {},
   "outputs": [
    {
     "name": "stdout",
     "output_type": "stream",
     "text": [
      "R2 et RMSE pour l'ensemble train\n",
      "0.13606715324311702\n",
      "0.00033346435589693313\n",
      "\n",
      "R2 et RMSE pour l'ensemble test\n",
      "0.11605156744888356\n",
      "0.00022146759743973948\n"
     ]
    }
   ],
   "source": [
    "# Modèle de régression linéaire\n",
    "model_lr = LinearRegression().fit(sk_train, y_train)\n",
    "\n",
    "print(\"R2 et RMSE pour l'ensemble train\")\n",
    "print(model_lr.score(sk_train, y_train))\n",
    "y_pred_train = model_lr.predict(sk_train) \n",
    "print(mean_squared_error(y_pred_train, y_train))\n",
    "\n",
    "print(\"\\nR2 et RMSE pour l'ensemble test\")\n",
    "print(model_lr.score(sk_test, y_test))\n",
    "y_pred_test = model_lr.predict(sk_test) \n",
    "print(mean_squared_error(y_pred_test, y_test))"
   ]
  },
  {
   "cell_type": "code",
   "execution_count": 11,
   "id": "39e9ff4b",
   "metadata": {},
   "outputs": [
    {
     "name": "stdout",
     "output_type": "stream",
     "text": [
      "Nombre de variables retenues:  22\n",
      "Nombre de variables éliminées:  128\n"
     ]
    }
   ],
   "source": [
    "# Modélisation par ElasticNet \n",
    "model_en = ElasticNetCV(l1_ratio=(0.1, 0.25, 0.5, 0.7, 0.75, 0.8, 0.85, 0.9, 0.99),\n",
    "                        alphas=(0.001, 0.01, 0.02, 0.025, 0.05, 0.1, 0.25, 0.5, 0.8, 1.0),\n",
    "                        cv=8).fit(sk_train, y_train)\n",
    "print(\"Nombre de variables retenues: \", \n",
    "      len(model_en.coef_[model_en.coef_!=0]))\n",
    "print(\"Nombre de variables éliminées: \",\n",
    "      sk_train.shape[1]-len(model_en.coef_[model_en.coef_!=0]))"
   ]
  },
  {
   "cell_type": "code",
   "execution_count": 12,
   "id": "1f5cb1de",
   "metadata": {},
   "outputs": [
    {
     "name": "stdout",
     "output_type": "stream",
     "text": [
      "alpha optimal:  0.001\n",
      "l1 ratio optimal:  0.1\n"
     ]
    }
   ],
   "source": [
    "print(\"alpha optimal: \", model_en.alpha_)\n",
    "print(\"l1 ratio optimal: \", model_en.l1_ratio_)"
   ]
  },
  {
   "cell_type": "code",
   "execution_count": 13,
   "id": "90dc7304",
   "metadata": {},
   "outputs": [
    {
     "name": "stdout",
     "output_type": "stream",
     "text": [
      "R2 et RMSE pour l'ensemble train\n",
      "0.10434051274608735\n",
      "0.00034571033517394605\n",
      "\n",
      "R2 et RMSE pour l'ensemble test\n",
      "0.10775809059243946\n",
      "0.00022354547475269296\n"
     ]
    }
   ],
   "source": [
    "print(\"R2 et RMSE pour l'ensemble train\")\n",
    "print(model_en.score(sk_train, y_train))\n",
    "y_pred_train = model_en.predict(sk_train) \n",
    "print(mean_squared_error(y_pred_train, y_train))\n",
    "\n",
    "print(\"\\nR2 et RMSE pour l'ensemble test\")\n",
    "print(model_en.score(sk_test, y_test))\n",
    "y_pred_test = model_en.predict(sk_test) \n",
    "print(mean_squared_error(y_pred_test, y_test))"
   ]
  },
  {
   "cell_type": "code",
   "execution_count": 14,
   "id": "a7ca5cd7",
   "metadata": {},
   "outputs": [
    {
     "data": {
      "text/plain": [
       "LassoCV(alphas=[50, 25, 10, 1, 0.1, 0.05, 0.01, 0.005, 0.001, 0.0005, 0.0001],\n",
       "        cv=8)"
      ]
     },
     "execution_count": 14,
     "metadata": {},
     "output_type": "execute_result"
    }
   ],
   "source": [
    "# Modélisation Lasso\n",
    "# YANN : peut-être redondant avec ElasticNet ?\n",
    "alpha = [50, 25, 10,1,0.1, 0.05, 0.01 , 0.005 ,0.001, 0.0005, 0.0001]\n",
    "model_las = LassoCV(alphas = alpha, cv=8)\n",
    "model_las.fit(sk_train, y_train)"
   ]
  },
  {
   "cell_type": "code",
   "execution_count": 15,
   "id": "87a46a0b",
   "metadata": {},
   "outputs": [
    {
     "name": "stdout",
     "output_type": "stream",
     "text": [
      "R2 et RMSE pour l'ensemble train\n",
      "0.10530788495196386\n",
      "0.0003453369448684887\n",
      "\n",
      "R2 et RMSE pour l'ensemble test\n",
      "0.10793339322652695\n",
      "0.00022350155380463025\n"
     ]
    }
   ],
   "source": [
    "print(\"R2 et RMSE pour l'ensemble train\")\n",
    "print(model_las.score(sk_train, y_train))\n",
    "y_pred_train = model_las.predict(sk_train) \n",
    "print(mean_squared_error(y_pred_train, y_train))\n",
    "\n",
    "print(\"\\nR2 et RMSE pour l'ensemble test\")\n",
    "print(model_las.score(sk_test, y_test))\n",
    "y_pred_test = model_las.predict(sk_test) \n",
    "print(mean_squared_error(y_pred_test, y_test))"
   ]
  },
  {
   "cell_type": "code",
   "execution_count": 16,
   "id": "821289e6",
   "metadata": {},
   "outputs": [
    {
     "name": "stdout",
     "output_type": "stream",
     "text": [
      "R2 et RMSE pour l'ensemble train\n",
      "0.36440367927510153\n",
      "0.0002453300838098967\n",
      "\n",
      "R2 et RMSE pour l'ensemble test\n",
      "0.1559441078867042\n",
      "0.00021147277787652828\n"
     ]
    }
   ],
   "source": [
    "# Modélisation par Voting Regressor\n",
    "from sklearn.ensemble import GradientBoostingRegressor\n",
    "from sklearn.ensemble import RandomForestRegressor\n",
    "from sklearn.ensemble import VotingRegressor\n",
    "\n",
    "reg1 = GradientBoostingRegressor(random_state=1)\n",
    "reg2 = RandomForestRegressor(random_state=1)\n",
    "reg3 = LinearRegression()\n",
    "model_vot = VotingRegressor(estimators=[('gb', reg1), ('rf', reg2), ('lr', reg3)])\n",
    "model_vot = model_vot.fit(sk_train, y_train)\n",
    "\n",
    "print(\"R2 et RMSE pour l'ensemble train\")\n",
    "print(model_vot.score(sk_train, y_train))\n",
    "y_pred_train = model_vot.predict(sk_train) \n",
    "print(mean_squared_error(y_pred_train, y_train))\n",
    "\n",
    "print(\"\\nR2 et RMSE pour l'ensemble test\")\n",
    "print(model_vot.score(sk_test, y_test))\n",
    "y_pred_test = model_vot.predict(sk_test) \n",
    "print(mean_squared_error(y_pred_test, y_test))"
   ]
  },
  {
   "cell_type": "markdown",
   "id": "4be51ba2",
   "metadata": {},
   "source": [
    "### Prédiction avec le dataset mergé"
   ]
  },
  {
   "cell_type": "code",
   "execution_count": 17,
   "id": "c1b5bdcf",
   "metadata": {},
   "outputs": [],
   "source": [
    "# Importation du dataframe\n",
    "df = pd.read_csv('df_merged.csv', index_col = 0)"
   ]
  },
  {
   "cell_type": "code",
   "execution_count": 18,
   "id": "f13af892",
   "metadata": {},
   "outputs": [
    {
     "name": "stdout",
     "output_type": "stream",
     "text": [
      "<class 'pandas.core.frame.DataFrame'>\n",
      "Int64Index: 6808 entries, 0 to 6807\n",
      "Data columns (total 6 columns):\n",
      " #   Column        Non-Null Count  Dtype  \n",
      "---  ------        --------------  -----  \n",
      " 0   Platform      6808 non-null   object \n",
      " 1   Year          6808 non-null   float64\n",
      " 2   Genre         6808 non-null   object \n",
      " 3   Publisher     6808 non-null   object \n",
      " 4   Global_Sales  6808 non-null   float64\n",
      " 5   rating        6808 non-null   int64  \n",
      "dtypes: float64(2), int64(1), object(3)\n",
      "memory usage: 372.3+ KB\n"
     ]
    }
   ],
   "source": [
    "# Suppression des variables non utilisées et des lignes contenant des valeurs manquantes\n",
    "df = df.drop(['NA_Sales', 'EU_Sales', 'JP_Sales', 'Other_Sales', 'Name'], axis = 1)\n",
    "df = df.dropna()\n",
    "df.info()"
   ]
  },
  {
   "cell_type": "code",
   "execution_count": 19,
   "id": "8259c05b",
   "metadata": {},
   "outputs": [
    {
     "data": {
      "image/png": "[encoded data removed]",
      "text/plain": [
       "<Figure size 432x288 with 2 Axes>"
      ]
     },
     "metadata": {
      "needs_background": "light"
     },
     "output_type": "display_data"
    }
   ],
   "source": [
    "# Matrice de correlation\n",
    "sns.heatmap(df[['Global_Sales','rating', 'Year']].corr(), center=0, annot=True, cmap='RdBu_r');"
   ]
  },
  {
   "cell_type": "code",
   "execution_count": 20,
   "id": "67f4f2d6",
   "metadata": {},
   "outputs": [],
   "source": [
    "# Séparation de la variable cible et des features.\n",
    "target = df['Global_Sales']\n",
    "feats = df.drop('Global_Sales', axis = 1)"
   ]
  },
  {
   "cell_type": "code",
   "execution_count": 21,
   "id": "d8cb77a3",
   "metadata": {},
   "outputs": [],
   "source": [
    "# Dichotomisation des variables catégorielles.\n",
    "feats = feats.join(pd.get_dummies(feats[['Platform', 'Genre', 'Publisher']]))\n",
    "feats = feats.drop(['Platform', 'Genre', 'Publisher'], axis = 1)"
   ]
  },
  {
   "cell_type": "code",
   "execution_count": 22,
   "id": "6c093a60",
   "metadata": {},
   "outputs": [],
   "source": [
    "# Séparation en jeu d'entrainement et de test.\n",
    "from sklearn.model_selection import train_test_split\n",
    "X_train, X_test, y_train, y_test = train_test_split(feats, target, test_size=0.2, random_state=60)"
   ]
  },
  {
   "cell_type": "code",
   "execution_count": 23,
   "id": "a1bf0b85",
   "metadata": {},
   "outputs": [],
   "source": [
    "# Standardisation des données\n",
    "\n",
    "from sklearn import preprocessing\n",
    "scaler = preprocessing.MinMaxScaler()\n",
    "X_train = scaler.fit_transform(X_train)\n",
    "X_test = scaler.transform(X_test)\n",
    "\n",
    "y_train = pd.Series(scaler.fit_transform(y_train.values.reshape(-1, 1))[:, 0])\n",
    "y_test = pd.Series(scaler.transform(y_test.values.reshape(-1, 1))[:, 0])"
   ]
  },
  {
   "cell_type": "code",
   "execution_count": 24,
   "id": "cdae003c",
   "metadata": {},
   "outputs": [
    {
     "name": "stderr",
     "output_type": "stream",
     "text": [
      "C:\\Users\\Claudio\\anaconda3\\lib\\site-packages\\sklearn\\feature_selection\\_univariate_selection.py:301: RuntimeWarning: invalid value encountered in true_divide\n",
      "  corr /= X_norms\n"
     ]
    },
    {
     "data": {
      "text/plain": [
       "Index(['Year', 'rating', 'Platform_3DS', 'Platform_DC', 'Platform_DS',\n",
       "       'Platform_GBA', 'Platform_GC', 'Platform_N64', 'Platform_PC',\n",
       "       'Platform_PS',\n",
       "       ...\n",
       "       'Publisher_Ubisoft', 'Publisher_Ubisoft Annecy', 'Publisher_Unknown',\n",
       "       'Publisher_Valve', 'Publisher_Virgin Interactive',\n",
       "       'Publisher_Vivendi Games', 'Publisher_Wanadoo',\n",
       "       'Publisher_Warner Bros. Interactive Entertainment',\n",
       "       'Publisher_Zoo Digital Publishing', 'Publisher_Zoo Games'],\n",
       "      dtype='object', length=150)"
      ]
     },
     "execution_count": 24,
     "metadata": {},
     "output_type": "execute_result"
    }
   ],
   "source": [
    "# Selection des 150 meilleures features\n",
    "\n",
    "\n",
    "from sklearn.feature_selection import SelectKBest\n",
    "from sklearn.feature_selection import f_regression\n",
    "\n",
    "sk = SelectKBest(f_regression, k=150)\n",
    "\n",
    "sk.fit(X_train, y_train)\n",
    "\n",
    "feats.columns[sk.get_support()]"
   ]
  },
  {
   "cell_type": "code",
   "execution_count": 25,
   "id": "b649fbc9",
   "metadata": {},
   "outputs": [],
   "source": [
    "sk_train = sk.transform(X_train)\n",
    "sk_test = sk.transform(X_test)"
   ]
  },
  {
   "cell_type": "code",
   "execution_count": 26,
   "id": "9fccd374",
   "metadata": {},
   "outputs": [
    {
     "name": "stdout",
     "output_type": "stream",
     "text": [
      "R2 et RMSE pour l'ensemble train\n",
      "0.1744473092754797\n",
      "0.0005052998137338455\n",
      "\n",
      "R2 et RMSE pour l'ensemble test\n",
      "0.18427833373738411\n",
      "0.00031904791738381413\n"
     ]
    }
   ],
   "source": [
    "# Modèle de régression linéaire\n",
    "model_lr = LinearRegression().fit(sk_train, y_train)\n",
    "\n",
    "print(\"R2 et RMSE pour l'ensemble train\")\n",
    "print(model_lr.score(sk_train, y_train))\n",
    "y_pred_train = model_lr.predict(sk_train) \n",
    "print(mean_squared_error(y_pred_train, y_train))\n",
    "\n",
    "print(\"\\nR2 et RMSE pour l'ensemble test\")\n",
    "print(model_lr.score(sk_test, y_test))\n",
    "y_pred_test = model_lr.predict(sk_test) \n",
    "print(mean_squared_error(y_pred_test, y_test))"
   ]
  },
  {
   "cell_type": "code",
   "execution_count": 27,
   "id": "1ba0ccd5",
   "metadata": {},
   "outputs": [
    {
     "name": "stdout",
     "output_type": "stream",
     "text": [
      "R2 et RMSE pour l'ensemble train\n",
      "0.15267414403078883\n",
      "0.0005186266146348067\n",
      "\n",
      "R2 et RMSE pour l'ensemble test\n",
      "0.172331485632635\n",
      "0.0003237206104907469\n"
     ]
    }
   ],
   "source": [
    "# Modélisation Lasso\n",
    "alpha = [50, 25, 10,1,0.1, 0.05, 0.01 , 0.005 ,0.001, 0.0005, 0.0001]\n",
    "model_las = LassoCV(alphas = alpha, cv=8)\n",
    "model_las.fit(sk_train, y_train)\n",
    "\n",
    "print(\"R2 et RMSE pour l'ensemble train\")\n",
    "print(model_las.score(sk_train, y_train))\n",
    "y_pred_train = model_las.predict(sk_train) \n",
    "print(mean_squared_error(y_pred_train, y_train))\n",
    "\n",
    "print(\"\\nR2 et RMSE pour l'ensemble test\")\n",
    "print(model_las.score(sk_test, y_test))\n",
    "y_pred_test = model_las.predict(sk_test) \n",
    "print(mean_squared_error(y_pred_test, y_test))"
   ]
  },
  {
   "cell_type": "code",
   "execution_count": 28,
   "id": "26b02f5d",
   "metadata": {},
   "outputs": [
    {
     "name": "stdout",
     "output_type": "stream",
     "text": [
      "R2 et RMSE pour l'ensemble train\n",
      "0.5648140567459747\n",
      "0.00026636625201095163\n",
      "\n",
      "R2 et RMSE pour l'ensemble test\n",
      "0.3574847531882758\n",
      "0.0002513028154834272\n"
     ]
    }
   ],
   "source": [
    "# Modélisation par Voting Classifier\n",
    "\n",
    "from sklearn.ensemble import GradientBoostingRegressor\n",
    "from sklearn.ensemble import RandomForestRegressor\n",
    "from sklearn.ensemble import VotingRegressor\n",
    "\n",
    "reg1 = GradientBoostingRegressor(random_state=1)\n",
    "reg2 = RandomForestRegressor(random_state=1)\n",
    "reg3 = LinearRegression()\n",
    "model_vot = VotingRegressor(estimators=[('gb', reg1), ('rf', reg2), ('lr', reg3)])\n",
    "model_vot = model_vot.fit(sk_train, y_train)\n",
    "\n",
    "print(\"R2 et RMSE pour l'ensemble train\")\n",
    "print(model_vot.score(sk_train, y_train))\n",
    "y_pred_train = model_vot.predict(sk_train) \n",
    "print(mean_squared_error(y_pred_train, y_train))\n",
    "\n",
    "print(\"\\nR2 et RMSE pour l'ensemble test\")\n",
    "print(model_vot.score(sk_test, y_test))\n",
    "y_pred_test = model_vot.predict(sk_test) \n",
    "print(mean_squared_error(y_pred_test, y_test))"
   ]
  },
  {
   "cell_type": "markdown",
   "id": "83834a85",
   "metadata": {},
   "source": [
    "## Prédiction des ventes au Japon"
   ]
  },
  {
   "cell_type": "markdown",
   "id": "94b80caf",
   "metadata": {},
   "source": [
    "### Prédiction avec le dataset de kaggle"
   ]
  },
  {
   "cell_type": "code",
   "execution_count": 29,
   "id": "70ebb188",
   "metadata": {},
   "outputs": [
    {
     "name": "stdout",
     "output_type": "stream",
     "text": [
      "<class 'pandas.core.frame.DataFrame'>\n",
      "Int64Index: 16291 entries, 0 to 16597\n",
      "Data columns (total 9 columns):\n",
      " #   Column        Non-Null Count  Dtype  \n",
      "---  ------        --------------  -----  \n",
      " 0   Platform      16291 non-null  object \n",
      " 1   Year          16291 non-null  float64\n",
      " 2   Genre         16291 non-null  object \n",
      " 3   Publisher     16291 non-null  object \n",
      " 4   NA_Sales      16291 non-null  float64\n",
      " 5   EU_Sales      16291 non-null  float64\n",
      " 6   JP_Sales      16291 non-null  float64\n",
      " 7   Other_Sales   16291 non-null  float64\n",
      " 8   Global_Sales  16291 non-null  float64\n",
      "dtypes: float64(6), object(3)\n",
      "memory usage: 1.2+ MB\n"
     ]
    }
   ],
   "source": [
    "# Importation du dataframe\n",
    "df = pd.read_csv('vgsales.csv')\n",
    "df = df.drop(['Rank', 'Name'], axis = 1)\n",
    "df = df.dropna()\n",
    "df.info()"
   ]
  },
  {
   "cell_type": "code",
   "execution_count": 30,
   "id": "ca86a9d9",
   "metadata": {},
   "outputs": [
    {
     "data": {
      "image/png": "[encoded data removed]",
      "text/plain": [
       "<Figure size 432x288 with 2 Axes>"
      ]
     },
     "metadata": {
      "needs_background": "light"
     },
     "output_type": "display_data"
    }
   ],
   "source": [
    "# Matrice de correlation\n",
    "sns.heatmap(df[['NA_Sales', 'EU_Sales', 'JP_Sales', 'Other_Sales', 'Global_Sales', 'Year']].corr(), center=0, annot=True, cmap='RdBu_r');"
   ]
  },
  {
   "cell_type": "code",
   "execution_count": 31,
   "id": "c539e1f1",
   "metadata": {},
   "outputs": [],
   "source": [
    "# Séparation de la variable cible et des features.\n",
    "target = df['JP_Sales']\n",
    "feats = df.drop(['Global_Sales', 'JP_Sales'], axis = 1)"
   ]
  },
  {
   "cell_type": "code",
   "execution_count": 32,
   "id": "321b4239",
   "metadata": {},
   "outputs": [],
   "source": [
    "# Dichotomisation des variables catégorielles.\n",
    "feats = feats.join(pd.get_dummies(feats[['Platform', 'Genre', 'Publisher']]))\n",
    "feats = feats.drop(['Platform', 'Genre', 'Publisher'], axis = 1)"
   ]
  },
  {
   "cell_type": "code",
   "execution_count": 33,
   "id": "2fc4c612",
   "metadata": {},
   "outputs": [],
   "source": [
    "# Séparation en jeux d'entrainement et de test.\n",
    "from sklearn.model_selection import train_test_split\n",
    "X_train, X_test, y_train, y_test = train_test_split(feats, target, test_size=0.2, random_state=12)"
   ]
  },
  {
   "cell_type": "code",
   "execution_count": 34,
   "id": "5221e1bc",
   "metadata": {},
   "outputs": [],
   "source": [
    "# Standardisation des données\n",
    "\n",
    "from sklearn import preprocessing\n",
    "scaler = preprocessing.MinMaxScaler()\n",
    "X_train = scaler.fit_transform(X_train)\n",
    "X_test = scaler.transform(X_test)\n",
    "\n",
    "y_train = pd.Series(scaler.fit_transform(y_train.values.reshape(-1, 1))[:, 0])\n",
    "y_test = pd.Series(scaler.transform(y_test.values.reshape(-1, 1))[:, 0])"
   ]
  },
  {
   "cell_type": "code",
   "execution_count": 35,
   "id": "e09c0144",
   "metadata": {},
   "outputs": [
    {
     "name": "stderr",
     "output_type": "stream",
     "text": [
      "C:\\Users\\Claudio\\anaconda3\\lib\\site-packages\\sklearn\\feature_selection\\_univariate_selection.py:301: RuntimeWarning: invalid value encountered in true_divide\n",
      "  corr /= X_norms\n"
     ]
    }
   ],
   "source": [
    "# Selection des 150 meilleures features\n",
    "\n",
    "from sklearn.feature_selection import SelectKBest\n",
    "from sklearn.feature_selection import f_regression\n",
    "\n",
    "sk = SelectKBest(f_regression, k=150)\n",
    "\n",
    "sk.fit(X_train, y_train)\n",
    "\n",
    "feats.columns[sk.get_support()]\n",
    "\n",
    "sk_train = sk.transform(X_train)\n",
    "sk_test = sk.transform(X_test)"
   ]
  },
  {
   "cell_type": "code",
   "execution_count": 36,
   "id": "a5ab036f",
   "metadata": {},
   "outputs": [
    {
     "name": "stdout",
     "output_type": "stream",
     "text": [
      "R2 et RMSE pour l'ensemble train\n",
      "0.4749854964537198\n",
      "0.0008885021852726917\n",
      "\n",
      "R2 et RMSE pour l'ensemble test\n",
      "0.38538336591579436\n",
      "0.001603918426844814\n"
     ]
    }
   ],
   "source": [
    "# Modèle de régression linéaire\n",
    "model_lr = LinearRegression().fit(sk_train, y_train)\n",
    "\n",
    "print(\"R2 et RMSE pour l'ensemble train\")\n",
    "print(model_lr.score(sk_train, y_train))\n",
    "y_pred_train = model_lr.predict(sk_train) \n",
    "print(mean_squared_error(y_pred_train, y_train))\n",
    "\n",
    "print(\"\\nR2 et RMSE pour l'ensemble test\")\n",
    "print(model_lr.score(sk_test, y_test))\n",
    "y_pred_test = model_lr.predict(sk_test) \n",
    "print(mean_squared_error(y_pred_test, y_test))"
   ]
  },
  {
   "cell_type": "code",
   "execution_count": 37,
   "id": "a774ced9",
   "metadata": {},
   "outputs": [
    {
     "name": "stdout",
     "output_type": "stream",
     "text": [
      "R2 et RMSE pour l'ensemble train\n",
      "0.4408670744893042\n",
      "0.0009462420996344419\n",
      "\n",
      "R2 et RMSE pour l'ensemble test\n",
      "0.3764591160252455\n",
      "0.0016272073651055674\n"
     ]
    }
   ],
   "source": [
    "# Modélisation Lasso\n",
    "\n",
    "alpha = [50, 25, 10,1,0.1, 0.05, 0.01 , 0.005 ,0.001, 0.0005, 0.0001]\n",
    "model_las = LassoCV(alphas = alpha, cv=8)\n",
    "model_las.fit(sk_train, y_train)\n",
    "\n",
    "print(\"R2 et RMSE pour l'ensemble train\")\n",
    "print(model_las.score(sk_train, y_train))\n",
    "y_pred_train = model_las.predict(sk_train) \n",
    "print(mean_squared_error(y_pred_train, y_train))\n",
    "\n",
    "print(\"\\nR2 et RMSE pour l'ensemble test\")\n",
    "print(model_las.score(sk_test, y_test))\n",
    "y_pred_test = model_las.predict(sk_test) \n",
    "print(mean_squared_error(y_pred_test, y_test))"
   ]
  },
  {
   "cell_type": "code",
   "execution_count": 38,
   "id": "dfeef6d6",
   "metadata": {},
   "outputs": [
    {
     "name": "stdout",
     "output_type": "stream",
     "text": [
      "R2 et RMSE pour l'ensemble train\n",
      "0.792131742820777\n",
      "0.0003517834259911734\n",
      "\n",
      "R2 et RMSE pour l'ensemble test\n",
      "0.5845139568512476\n",
      "0.0010842624226988012\n"
     ]
    }
   ],
   "source": [
    "# Modélisation par Voting Classifier\n",
    "\n",
    "from sklearn.ensemble import GradientBoostingRegressor\n",
    "from sklearn.ensemble import RandomForestRegressor\n",
    "from sklearn.ensemble import VotingRegressor\n",
    "\n",
    "reg1 = GradientBoostingRegressor(random_state=1)\n",
    "reg2 = RandomForestRegressor(random_state=1)\n",
    "reg3 = LinearRegression()\n",
    "model_vot = VotingRegressor(estimators=[('gb', reg1), ('rf', reg2), ('lr', reg3)])\n",
    "model_vot = model_vot.fit(sk_train, y_train)\n",
    "\n",
    "print(\"R2 et RMSE pour l'ensemble train\")\n",
    "print(model_vot.score(sk_train, y_train))\n",
    "y_pred_train = model_vot.predict(sk_train) \n",
    "print(mean_squared_error(y_pred_train, y_train))\n",
    "\n",
    "print(\"\\nR2 et RMSE pour l'ensemble test\")\n",
    "print(model_vot.score(sk_test, y_test))\n",
    "y_pred_test = model_vot.predict(sk_test) \n",
    "print(mean_squared_error(y_pred_test, y_test))"
   ]
  },
  {
   "cell_type": "markdown",
   "id": "d18d5179",
   "metadata": {},
   "source": [
    "### Prédiction avec le dataset mergé"
   ]
  },
  {
   "cell_type": "code",
   "execution_count": 39,
   "id": "7fc1ef23",
   "metadata": {},
   "outputs": [
    {
     "name": "stdout",
     "output_type": "stream",
     "text": [
      "<class 'pandas.core.frame.DataFrame'>\n",
      "Int64Index: 6808 entries, 0 to 6807\n",
      "Data columns (total 10 columns):\n",
      " #   Column        Non-Null Count  Dtype  \n",
      "---  ------        --------------  -----  \n",
      " 0   Platform      6808 non-null   object \n",
      " 1   Year          6808 non-null   float64\n",
      " 2   Genre         6808 non-null   object \n",
      " 3   Publisher     6808 non-null   object \n",
      " 4   NA_Sales      6808 non-null   float64\n",
      " 5   EU_Sales      6808 non-null   float64\n",
      " 6   JP_Sales      6808 non-null   float64\n",
      " 7   Other_Sales   6808 non-null   float64\n",
      " 8   Global_Sales  6808 non-null   float64\n",
      " 9   rating        6808 non-null   int64  \n",
      "dtypes: float64(6), int64(1), object(3)\n",
      "memory usage: 585.1+ KB\n"
     ]
    }
   ],
   "source": [
    "# Importation du dataframe\n",
    "df = pd.read_csv('df_merged.csv', index_col = 0)\n",
    "df = df.drop(['Name'], axis = 1)\n",
    "df = df.dropna()\n",
    "df.info()"
   ]
  },
  {
   "cell_type": "code",
   "execution_count": 40,
   "id": "e4779376",
   "metadata": {},
   "outputs": [
    {
     "data": {
      "image/png": "[encoded data removed]",
      "text/plain": [
       "<Figure size 432x288 with 2 Axes>"
      ]
     },
     "metadata": {
      "needs_background": "light"
     },
     "output_type": "display_data"
    }
   ],
   "source": [
    "# Matrice de correlation\n",
    "sns.heatmap(df[['rating', 'NA_Sales', 'EU_Sales', 'JP_Sales', 'Other_Sales', 'Global_Sales', 'Year']].corr(), center=0, annot=True, cmap='RdBu_r');"
   ]
  },
  {
   "cell_type": "code",
   "execution_count": 41,
   "id": "e84de836",
   "metadata": {},
   "outputs": [],
   "source": [
    "# Séparation de la variable cible et des features.\n",
    "\n",
    "target = df['JP_Sales']\n",
    "feats = df.drop(['Global_Sales', 'JP_Sales'], axis = 1)"
   ]
  },
  {
   "cell_type": "code",
   "execution_count": 42,
   "id": "6fa9883c",
   "metadata": {},
   "outputs": [],
   "source": [
    "# Dichotomisation des variables catégorielles.\n",
    "\n",
    "feats = feats.join(pd.get_dummies(feats[['Platform', 'Genre', 'Publisher']]))\n",
    "feats = feats.drop(['Platform', 'Genre', 'Publisher'], axis = 1)"
   ]
  },
  {
   "cell_type": "code",
   "execution_count": 43,
   "id": "35375d42",
   "metadata": {},
   "outputs": [],
   "source": [
    "# Séparation en jeux d'entrainement et de test.\n",
    "\n",
    "from sklearn.model_selection import train_test_split\n",
    "X_train, X_test, y_train, y_test , i_train, i_test= train_test_split(feats, target, feats.index, test_size=0.2, random_state=12)"
   ]
  },
  {
   "cell_type": "code",
   "execution_count": 44,
   "id": "441ad27f",
   "metadata": {},
   "outputs": [],
   "source": [
    "# Standardisation des données\n",
    "\n",
    "from sklearn import preprocessing\n",
    "scaler = preprocessing.MinMaxScaler()\n",
    "X_train = scaler.fit_transform(X_train)\n",
    "X_test = scaler.transform(X_test)\n",
    "\n",
    "y_train = pd.Series(scaler.fit_transform(y_train.values.reshape(-1, 1))[:, 0])\n",
    "y_test = pd.Series(scaler.transform(y_test.values.reshape(-1, 1))[:, 0])"
   ]
  },
  {
   "cell_type": "code",
   "execution_count": 45,
   "id": "55f527bc",
   "metadata": {},
   "outputs": [
    {
     "name": "stderr",
     "output_type": "stream",
     "text": [
      "C:\\Users\\Claudio\\anaconda3\\lib\\site-packages\\sklearn\\feature_selection\\_univariate_selection.py:301: RuntimeWarning: invalid value encountered in true_divide\n",
      "  corr /= X_norms\n"
     ]
    }
   ],
   "source": [
    "# Selection des 150 meilleures features\n",
    "\n",
    "from sklearn.feature_selection import SelectKBest\n",
    "from sklearn.feature_selection import f_regression\n",
    "\n",
    "sk = SelectKBest(f_regression, k=150)\n",
    "\n",
    "sk.fit(X_train, y_train)\n",
    "\n",
    "feats.columns[sk.get_support()]\n",
    "\n",
    "sk_train = sk.transform(X_train)\n",
    "sk_test = sk.transform(X_test)\n"
   ]
  },
  {
   "cell_type": "code",
   "execution_count": 46,
   "id": "4737f4e4",
   "metadata": {},
   "outputs": [
    {
     "name": "stdout",
     "output_type": "stream",
     "text": [
      "R2 et RMSE pour l'ensemble train\n",
      "0.4468528376358143\n",
      "0.0014988794470902115\n",
      "\n",
      "R2 et RMSE pour l'ensemble test\n",
      "0.4057272214795513\n",
      "0.0021711011709020706\n"
     ]
    }
   ],
   "source": [
    "# Modèle de régression linéaire\n",
    "model_lr = LinearRegression().fit(sk_train, y_train)\n",
    "\n",
    "print(\"R2 et RMSE pour l'ensemble train\")\n",
    "print(model_lr.score(sk_train, y_train))\n",
    "y_pred_train = model_lr.predict(sk_train) \n",
    "print(mean_squared_error(y_pred_train, y_train))\n",
    "\n",
    "print(\"\\nR2 et RMSE pour l'ensemble test\")\n",
    "print(model_lr.score(sk_test, y_test))\n",
    "y_pred_test = model_lr.predict(sk_test) \n",
    "print(mean_squared_error(y_pred_test, y_test))"
   ]
  },
  {
   "cell_type": "code",
   "execution_count": 47,
   "id": "87470c83",
   "metadata": {},
   "outputs": [
    {
     "name": "stdout",
     "output_type": "stream",
     "text": [
      "R2 et RMSE pour l'ensemble train\n",
      "0.4314925424558518\n",
      "0.0015405016993821365\n",
      "\n",
      "R2 et RMSE pour l'ensemble test\n",
      "0.42045261477828966\n",
      "0.0021173037906611646\n"
     ]
    }
   ],
   "source": [
    "# Modélisation Lasso\n",
    "\n",
    "alpha = [50, 25, 10,1,0.1, 0.05, 0.01 , 0.005 ,0.001, 0.0005, 0.0001]\n",
    "model_las = LassoCV(alphas = alpha, cv=8)\n",
    "model_las.fit(sk_train, y_train)\n",
    "\n",
    "print(\"R2 et RMSE pour l'ensemble train\")\n",
    "print(model_las.score(sk_train, y_train))\n",
    "y_pred_train = model_las.predict(sk_train) \n",
    "print(mean_squared_error(y_pred_train, y_train))\n",
    "\n",
    "print(\"\\nR2 et RMSE pour l'ensemble test\")\n",
    "print(model_las.score(sk_test, y_test))\n",
    "y_pred_test = model_las.predict(sk_test) \n",
    "print(mean_squared_error(y_pred_test, y_test))"
   ]
  },
  {
   "cell_type": "code",
   "execution_count": 48,
   "id": "63f75c5a",
   "metadata": {},
   "outputs": [
    {
     "name": "stdout",
     "output_type": "stream",
     "text": [
      "R2 et RMSE pour l'ensemble train\n",
      "0.8109797844779159\n",
      "0.0005121937441018282\n",
      "\n",
      "R2 et RMSE pour l'ensemble test\n",
      "0.6572894131498558\n",
      "0.0012520502087330274\n"
     ]
    }
   ],
   "source": [
    "# Modélisation par Voting Classifier\n",
    "\n",
    "from sklearn.ensemble import GradientBoostingRegressor\n",
    "from sklearn.ensemble import RandomForestRegressor\n",
    "from sklearn.ensemble import VotingRegressor\n",
    "\n",
    "reg1 = GradientBoostingRegressor(random_state=1)\n",
    "reg2 = RandomForestRegressor(random_state=1)\n",
    "reg3 = LinearRegression()\n",
    "model_vot = VotingRegressor(estimators=[('gb', reg1), ('rf', reg2), ('lr', reg3)])\n",
    "model_vot = model_vot.fit(sk_train, y_train)\n",
    "\n",
    "print(\"R2 et RMSE pour l'ensemble train\")\n",
    "print(model_vot.score(sk_train, y_train))\n",
    "y_pred_train = model_vot.predict(sk_train) \n",
    "print(mean_squared_error(y_pred_train, y_train))\n",
    "\n",
    "print(\"\\nR2 et RMSE pour l'ensemble test\")\n",
    "print(model_vot.score(sk_test, y_test))\n",
    "y_pred_test = model_vot.predict(sk_test) \n",
    "print(mean_squared_error(y_pred_test, y_test))"
   ]
  },
  {
   "cell_type": "markdown",
   "id": "87283484",
   "metadata": {},
   "source": [
    "### Analyses des composantes principales (PCA)"
   ]
  },
  {
   "cell_type": "code",
   "execution_count": 49,
   "id": "c3842f98",
   "metadata": {},
   "outputs": [],
   "source": [
    "from sklearn.preprocessing import LabelEncoder"
   ]
  },
  {
   "cell_type": "code",
   "execution_count": 51,
   "id": "bda224a1",
   "metadata": {},
   "outputs": [
    {
     "data": {
      "image/png": "[encoded data removed]",
      "text/plain": [
       "<Figure size 432x288 with 2 Axes>"
      ]
     },
     "metadata": {
      "needs_background": "light"
     },
     "output_type": "display_data"
    }
   ],
   "source": [
    "from sklearn.decomposition import PCA\n",
    "pca = PCA(n_components=2)\n",
    "pca.fit(X_train)\n",
    "data_2D = pca.transform(X_train)\n",
    "\n",
    "plt.scatter(data_2D[:,0], data_2D[:,1], c = y_train,);\n",
    "plt.colorbar();"
   ]
  },
  {
   "cell_type": "markdown",
   "id": "01c7141c",
   "metadata": {},
   "source": [
    "Il n'y a pas de séparation visible entre les ventes hautes (couleur claire) et basses. Les deux premières composantes sont donc insuffisantes pour prédire les ventes."
   ]
  },
  {
   "cell_type": "code",
   "execution_count": 52,
   "id": "fab44bef",
   "metadata": {},
   "outputs": [
    {
     "data": {
      "text/plain": [
       "(2, 293)"
      ]
     },
     "execution_count": 52,
     "metadata": {},
     "output_type": "execute_result"
    }
   ],
   "source": [
    "pca.components_.shape"
   ]
  },
  {
   "cell_type": "code",
   "execution_count": 53,
   "id": "ce4f1f04",
   "metadata": {},
   "outputs": [],
   "source": [
    "check = df.loc[i_train[X_train@pca.components_[0]<-0.2]]"
   ]
  },
  {
   "cell_type": "code",
   "execution_count": 54,
   "id": "de470de8",
   "metadata": {},
   "outputs": [
    {
     "data": {
      "text/html": [
       "<div>\n",
       "<style scoped>\n",
       "    .dataframe tbody tr th:only-of-type {\n",
       "        vertical-align: middle;\n",
       "    }\n",
       "\n",
       "    .dataframe tbody tr th {\n",
       "        vertical-align: top;\n",
       "    }\n",
       "\n",
       "    .dataframe thead th {\n",
       "        text-align: right;\n",
       "    }\n",
       "</style>\n",
       "<table border=\"1\" class=\"dataframe\">\n",
       "  <thead>\n",
       "    <tr style=\"text-align: right;\">\n",
       "      <th></th>\n",
       "      <th>Platform</th>\n",
       "      <th>Year</th>\n",
       "      <th>Genre</th>\n",
       "      <th>Publisher</th>\n",
       "      <th>NA_Sales</th>\n",
       "      <th>EU_Sales</th>\n",
       "      <th>JP_Sales</th>\n",
       "      <th>Other_Sales</th>\n",
       "      <th>Global_Sales</th>\n",
       "      <th>rating</th>\n",
       "    </tr>\n",
       "  </thead>\n",
       "  <tbody>\n",
       "    <tr>\n",
       "      <th>5943</th>\n",
       "      <td>PS2</td>\n",
       "      <td>2005.0</td>\n",
       "      <td>Action</td>\n",
       "      <td>JoWood Productions</td>\n",
       "      <td>0.03</td>\n",
       "      <td>0.02</td>\n",
       "      <td>0.00</td>\n",
       "      <td>0.01</td>\n",
       "      <td>0.05</td>\n",
       "      <td>72</td>\n",
       "    </tr>\n",
       "    <tr>\n",
       "      <th>358</th>\n",
       "      <td>PS3</td>\n",
       "      <td>2010.0</td>\n",
       "      <td>Action</td>\n",
       "      <td>Ubisoft</td>\n",
       "      <td>1.87</td>\n",
       "      <td>0.57</td>\n",
       "      <td>0.11</td>\n",
       "      <td>0.30</td>\n",
       "      <td>2.84</td>\n",
       "      <td>90</td>\n",
       "    </tr>\n",
       "    <tr>\n",
       "      <th>779</th>\n",
       "      <td>Wii</td>\n",
       "      <td>2007.0</td>\n",
       "      <td>Action</td>\n",
       "      <td>Capcom</td>\n",
       "      <td>0.68</td>\n",
       "      <td>0.43</td>\n",
       "      <td>0.29</td>\n",
       "      <td>0.14</td>\n",
       "      <td>1.54</td>\n",
       "      <td>75</td>\n",
       "    </tr>\n",
       "    <tr>\n",
       "      <th>5153</th>\n",
       "      <td>XB</td>\n",
       "      <td>2006.0</td>\n",
       "      <td>Action</td>\n",
       "      <td>Activision</td>\n",
       "      <td>0.08</td>\n",
       "      <td>0.02</td>\n",
       "      <td>0.00</td>\n",
       "      <td>0.00</td>\n",
       "      <td>0.10</td>\n",
       "      <td>53</td>\n",
       "    </tr>\n",
       "    <tr>\n",
       "      <th>910</th>\n",
       "      <td>X360</td>\n",
       "      <td>2010.0</td>\n",
       "      <td>Action</td>\n",
       "      <td>Microsoft Game Studios</td>\n",
       "      <td>0.66</td>\n",
       "      <td>0.51</td>\n",
       "      <td>0.05</td>\n",
       "      <td>0.13</td>\n",
       "      <td>1.35</td>\n",
       "      <td>83</td>\n",
       "    </tr>\n",
       "    <tr>\n",
       "      <th>5249</th>\n",
       "      <td>PS</td>\n",
       "      <td>2000.0</td>\n",
       "      <td>Action</td>\n",
       "      <td>Sony Computer Entertainment</td>\n",
       "      <td>0.05</td>\n",
       "      <td>0.04</td>\n",
       "      <td>0.00</td>\n",
       "      <td>0.01</td>\n",
       "      <td>0.09</td>\n",
       "      <td>61</td>\n",
       "    </tr>\n",
       "    <tr>\n",
       "      <th>5020</th>\n",
       "      <td>DS</td>\n",
       "      <td>2008.0</td>\n",
       "      <td>Action</td>\n",
       "      <td>Takara Tomy</td>\n",
       "      <td>0.08</td>\n",
       "      <td>0.00</td>\n",
       "      <td>0.03</td>\n",
       "      <td>0.01</td>\n",
       "      <td>0.11</td>\n",
       "      <td>64</td>\n",
       "    </tr>\n",
       "    <tr>\n",
       "      <th>1193</th>\n",
       "      <td>X360</td>\n",
       "      <td>2010.0</td>\n",
       "      <td>Action</td>\n",
       "      <td>THQ</td>\n",
       "      <td>0.67</td>\n",
       "      <td>0.29</td>\n",
       "      <td>0.01</td>\n",
       "      <td>0.10</td>\n",
       "      <td>1.06</td>\n",
       "      <td>83</td>\n",
       "    </tr>\n",
       "    <tr>\n",
       "      <th>3000</th>\n",
       "      <td>X360</td>\n",
       "      <td>2006.0</td>\n",
       "      <td>Action</td>\n",
       "      <td>Microsoft Game Studios</td>\n",
       "      <td>0.27</td>\n",
       "      <td>0.02</td>\n",
       "      <td>0.02</td>\n",
       "      <td>0.03</td>\n",
       "      <td>0.34</td>\n",
       "      <td>56</td>\n",
       "    </tr>\n",
       "    <tr>\n",
       "      <th>1299</th>\n",
       "      <td>PS3</td>\n",
       "      <td>2013.0</td>\n",
       "      <td>Action</td>\n",
       "      <td>Ubisoft</td>\n",
       "      <td>0.34</td>\n",
       "      <td>0.41</td>\n",
       "      <td>0.06</td>\n",
       "      <td>0.18</td>\n",
       "      <td>0.98</td>\n",
       "      <td>84</td>\n",
       "    </tr>\n",
       "    <tr>\n",
       "      <th>583</th>\n",
       "      <td>X360</td>\n",
       "      <td>2013.0</td>\n",
       "      <td>Action</td>\n",
       "      <td>Warner Bros. Interactive Entertainment</td>\n",
       "      <td>1.15</td>\n",
       "      <td>0.61</td>\n",
       "      <td>0.00</td>\n",
       "      <td>0.17</td>\n",
       "      <td>1.93</td>\n",
       "      <td>74</td>\n",
       "    </tr>\n",
       "    <tr>\n",
       "      <th>2182</th>\n",
       "      <td>PS3</td>\n",
       "      <td>2010.0</td>\n",
       "      <td>Action</td>\n",
       "      <td>Tecmo Koei</td>\n",
       "      <td>0.11</td>\n",
       "      <td>0.05</td>\n",
       "      <td>0.36</td>\n",
       "      <td>0.02</td>\n",
       "      <td>0.55</td>\n",
       "      <td>58</td>\n",
       "    </tr>\n",
       "    <tr>\n",
       "      <th>5662</th>\n",
       "      <td>PS4</td>\n",
       "      <td>2015.0</td>\n",
       "      <td>Action</td>\n",
       "      <td>Ubisoft</td>\n",
       "      <td>0.06</td>\n",
       "      <td>0.00</td>\n",
       "      <td>0.00</td>\n",
       "      <td>0.01</td>\n",
       "      <td>0.07</td>\n",
       "      <td>62</td>\n",
       "    </tr>\n",
       "    <tr>\n",
       "      <th>4257</th>\n",
       "      <td>PSV</td>\n",
       "      <td>2014.0</td>\n",
       "      <td>Action</td>\n",
       "      <td>Idea Factory International</td>\n",
       "      <td>0.07</td>\n",
       "      <td>0.02</td>\n",
       "      <td>0.06</td>\n",
       "      <td>0.03</td>\n",
       "      <td>0.17</td>\n",
       "      <td>72</td>\n",
       "    </tr>\n",
       "    <tr>\n",
       "      <th>1211</th>\n",
       "      <td>PS3</td>\n",
       "      <td>2012.0</td>\n",
       "      <td>Action</td>\n",
       "      <td>THQ</td>\n",
       "      <td>0.55</td>\n",
       "      <td>0.34</td>\n",
       "      <td>0.03</td>\n",
       "      <td>0.13</td>\n",
       "      <td>1.05</td>\n",
       "      <td>86</td>\n",
       "    </tr>\n",
       "    <tr>\n",
       "      <th>4129</th>\n",
       "      <td>Wii</td>\n",
       "      <td>2008.0</td>\n",
       "      <td>Action</td>\n",
       "      <td>SouthPeak Games</td>\n",
       "      <td>0.17</td>\n",
       "      <td>0.01</td>\n",
       "      <td>0.00</td>\n",
       "      <td>0.01</td>\n",
       "      <td>0.19</td>\n",
       "      <td>72</td>\n",
       "    </tr>\n",
       "    <tr>\n",
       "      <th>633</th>\n",
       "      <td>X360</td>\n",
       "      <td>2012.0</td>\n",
       "      <td>Action</td>\n",
       "      <td>Microsoft Game Studios</td>\n",
       "      <td>1.05</td>\n",
       "      <td>0.57</td>\n",
       "      <td>0.03</td>\n",
       "      <td>0.14</td>\n",
       "      <td>1.78</td>\n",
       "      <td>56</td>\n",
       "    </tr>\n",
       "    <tr>\n",
       "      <th>1145</th>\n",
       "      <td>PSP</td>\n",
       "      <td>2008.0</td>\n",
       "      <td>Action</td>\n",
       "      <td>LucasArts</td>\n",
       "      <td>0.43</td>\n",
       "      <td>0.41</td>\n",
       "      <td>0.00</td>\n",
       "      <td>0.25</td>\n",
       "      <td>1.09</td>\n",
       "      <td>70</td>\n",
       "    </tr>\n",
       "    <tr>\n",
       "      <th>174</th>\n",
       "      <td>PS4</td>\n",
       "      <td>2015.0</td>\n",
       "      <td>Action</td>\n",
       "      <td>Sony Computer Entertainment</td>\n",
       "      <td>1.96</td>\n",
       "      <td>1.69</td>\n",
       "      <td>0.08</td>\n",
       "      <td>0.74</td>\n",
       "      <td>4.47</td>\n",
       "      <td>87</td>\n",
       "    </tr>\n",
       "    <tr>\n",
       "      <th>6197</th>\n",
       "      <td>XB</td>\n",
       "      <td>2006.0</td>\n",
       "      <td>Action</td>\n",
       "      <td>Take-Two Interactive</td>\n",
       "      <td>0.03</td>\n",
       "      <td>0.01</td>\n",
       "      <td>0.00</td>\n",
       "      <td>0.00</td>\n",
       "      <td>0.04</td>\n",
       "      <td>52</td>\n",
       "    </tr>\n",
       "  </tbody>\n",
       "</table>\n",
       "</div>"
      ],
      "text/plain": [
       "     Platform    Year   Genre                               Publisher  \\\n",
       "5943      PS2  2005.0  Action                      JoWood Productions   \n",
       "358       PS3  2010.0  Action                                 Ubisoft   \n",
       "779       Wii  2007.0  Action                                  Capcom   \n",
       "5153       XB  2006.0  Action                              Activision   \n",
       "910      X360  2010.0  Action                  Microsoft Game Studios   \n",
       "5249       PS  2000.0  Action             Sony Computer Entertainment   \n",
       "5020       DS  2008.0  Action                             Takara Tomy   \n",
       "1193     X360  2010.0  Action                                     THQ   \n",
       "3000     X360  2006.0  Action                  Microsoft Game Studios   \n",
       "1299      PS3  2013.0  Action                                 Ubisoft   \n",
       "583      X360  2013.0  Action  Warner Bros. Interactive Entertainment   \n",
       "2182      PS3  2010.0  Action                              Tecmo Koei   \n",
       "5662      PS4  2015.0  Action                                 Ubisoft   \n",
       "4257      PSV  2014.0  Action              Idea Factory International   \n",
       "1211      PS3  2012.0  Action                                     THQ   \n",
       "4129      Wii  2008.0  Action                         SouthPeak Games   \n",
       "633      X360  2012.0  Action                  Microsoft Game Studios   \n",
       "1145      PSP  2008.0  Action                               LucasArts   \n",
       "174       PS4  2015.0  Action             Sony Computer Entertainment   \n",
       "6197       XB  2006.0  Action                    Take-Two Interactive   \n",
       "\n",
       "      NA_Sales  EU_Sales  JP_Sales  Other_Sales  Global_Sales  rating  \n",
       "5943      0.03      0.02      0.00         0.01          0.05      72  \n",
       "358       1.87      0.57      0.11         0.30          2.84      90  \n",
       "779       0.68      0.43      0.29         0.14          1.54      75  \n",
       "5153      0.08      0.02      0.00         0.00          0.10      53  \n",
       "910       0.66      0.51      0.05         0.13          1.35      83  \n",
       "5249      0.05      0.04      0.00         0.01          0.09      61  \n",
       "5020      0.08      0.00      0.03         0.01          0.11      64  \n",
       "1193      0.67      0.29      0.01         0.10          1.06      83  \n",
       "3000      0.27      0.02      0.02         0.03          0.34      56  \n",
       "1299      0.34      0.41      0.06         0.18          0.98      84  \n",
       "583       1.15      0.61      0.00         0.17          1.93      74  \n",
       "2182      0.11      0.05      0.36         0.02          0.55      58  \n",
       "5662      0.06      0.00      0.00         0.01          0.07      62  \n",
       "4257      0.07      0.02      0.06         0.03          0.17      72  \n",
       "1211      0.55      0.34      0.03         0.13          1.05      86  \n",
       "4129      0.17      0.01      0.00         0.01          0.19      72  \n",
       "633       1.05      0.57      0.03         0.14          1.78      56  \n",
       "1145      0.43      0.41      0.00         0.25          1.09      70  \n",
       "174       1.96      1.69      0.08         0.74          4.47      87  \n",
       "6197      0.03      0.01      0.00         0.00          0.04      52  "
      ]
     },
     "execution_count": 54,
     "metadata": {},
     "output_type": "execute_result"
    }
   ],
   "source": [
    "check.head(20)"
   ]
  },
  {
   "cell_type": "code",
   "execution_count": 55,
   "id": "512d4df2",
   "metadata": {},
   "outputs": [
    {
     "data": {
      "text/plain": [
       "Action       1227\n",
       "Adventure       1\n",
       "Name: Genre, dtype: int64"
      ]
     },
     "execution_count": 55,
     "metadata": {},
     "output_type": "execute_result"
    }
   ],
   "source": [
    "check.Genre.value_counts()"
   ]
  },
  {
   "cell_type": "code",
   "execution_count": 57,
   "id": "f44a4b42",
   "metadata": {},
   "outputs": [
    {
     "data": {
      "image/png": "[encoded data removed]",
      "text/plain": [
       "<Figure size 457.5x360 with 1 Axes>"
      ]
     },
     "metadata": {
      "needs_background": "light"
     },
     "output_type": "display_data"
    }
   ],
   "source": [
    "\n",
    "sns.relplot(x = data_2D[:,0], y = data_2D[:,1], hue = df.loc[i_train].Genre, kind = 'scatter', palette = 'icefire');"
   ]
  },
  {
   "cell_type": "code",
   "execution_count": 59,
   "id": "5898d63e",
   "metadata": {},
   "outputs": [
    {
     "data": {
      "text/plain": [
       "Text(0, 0.5, 'Explained variance ratio cumulative sum ')"
      ]
     },
     "execution_count": 59,
     "metadata": {},
     "output_type": "execute_result"
    },
    {
     "data": {
      "image/png": "[encoded data removed]",
      "text/plain": [
       "<Figure size 432x288 with 1 Axes>"
      ]
     },
     "metadata": {
      "needs_background": "light"
     },
     "output_type": "display_data"
    }
   ],
   "source": [
    "pca = PCA(n_components = 150)\n",
    "\n",
    "X_train_pca = pca.fit_transform(X_train)\n",
    "X_test_pca = pca.transform(X_test)\n",
    "\n",
    "plt.figure()\n",
    "plt.xlim(0,150)\n",
    "plt.axhline(y = 1, color ='r', linestyle = '--')\n",
    "plt.plot(pca.explained_variance_ratio_.cumsum());\n",
    "plt.xlabel(\"Principle componants\")\n",
    "plt.ylabel(\"Explained variance ratio cumulative sum \")"
   ]
  },
  {
   "cell_type": "code",
   "execution_count": null,
   "id": "8a63232b",
   "metadata": {},
   "outputs": [],
   "source": [
    "# Modélisation par Voting Classifier\n",
    "\n",
    "from sklearn.ensemble import GradientBoostingRegressor\n",
    "from sklearn.ensemble import RandomForestRegressor\n",
    "from sklearn.ensemble import VotingRegressor\n",
    "\n",
    "reg1 = GradientBoostingRegressor(random_state=1)\n",
    "reg2 = RandomForestRegressor(random_state=1)\n",
    "reg3 = LinearRegression()\n",
    "model_vot = VotingRegressor(estimators=[('gb', reg1), ('rf', reg2), ('lr', reg3)])\n",
    "model_vot = model_vot.fit(X_train_pca, y_train)\n",
    "\n",
    "print(\"R2 et RMSE pour l'ensemble train\")\n",
    "print(model_vot.score(X_train_pca, y_train))\n",
    "y_pred_train = model_vot.predict(X_train_pca) \n",
    "print(mean_squared_error(y_pred_train, y_train))\n",
    "\n",
    "print(\"\\nR2 et RMSE pour l'ensemble test\")\n",
    "print(model_vot.score(X_test_pca, y_test))\n",
    "y_pred_test = model_vot.predict(X_test_pca) \n",
    "print(mean_squared_error(y_pred_test, y_test))"
   ]
  },
  {
   "cell_type": "markdown",
   "id": "a6c9dfdf",
   "metadata": {},
   "source": [
    "On voit qu'avec une transformation PCA de 150 composantes, on améliore pas le score. Cela justifie l'utilisation de skBest."
   ]
  },
  {
   "cell_type": "code",
   "execution_count": null,
   "id": "cdbf306e",
   "metadata": {},
   "outputs": [],
   "source": [
    "pca = PCA(n_components = 50)\n",
    "\n",
    "X_train_pca = pca.fit_transform(X_train)\n",
    "X_test_pca = pca.transform(X_test)\n",
    "\n",
    "reg1 = GradientBoostingRegressor(random_state=1)\n",
    "reg2 = RandomForestRegressor(random_state=1)\n",
    "reg3 = LinearRegression()\n",
    "model_vot = VotingRegressor(estimators=[('gb', reg1), ('rf', reg2), ('lr', reg3)])\n",
    "model_vot = model_vot.fit(X_train_pca, y_train)\n",
    "\n",
    "print(\"R2 et RMSE pour l'ensemble train\")\n",
    "print(model_vot.score(X_train_pca, y_train))\n",
    "y_pred_train = model_vot.predict(X_train_pca) \n",
    "print(mean_squared_error(y_pred_train, y_train))\n",
    "\n",
    "print(\"\\nR2 et RMSE pour l'ensemble test\")\n",
    "print(model_vot.score(X_test_pca, y_test))\n",
    "y_pred_test = model_vot.predict(X_test_pca) \n",
    "print(mean_squared_error(y_pred_test, y_test))"
   ]
  },
  {
   "cell_type": "markdown",
   "id": "1821a0f6",
   "metadata": {},
   "source": [
    "Le PCA à 50 composantes donne un moins bon score. De plus l'entrainement du modèle est plus long qu'avec skBest à 150 composantes."
   ]
  },
  {
   "cell_type": "markdown",
   "id": "ce3dc9d3",
   "metadata": {},
   "source": [
    "### Prédiction sans Other_Sales"
   ]
  },
  {
   "cell_type": "code",
   "execution_count": null,
   "id": "afdff6be",
   "metadata": {},
   "outputs": [],
   "source": [
    "# Séparation de la variable cible et des features.\n",
    "\n",
    "target = df['JP_Sales']\n",
    "feats = df.drop(['Global_Sales', 'JP_Sales', 'Other_Sales'], axis = 1)"
   ]
  },
  {
   "cell_type": "code",
   "execution_count": null,
   "id": "70d32b99",
   "metadata": {},
   "outputs": [],
   "source": [
    "# Dichotomisation des variables catégorielles.\n",
    "\n",
    "feats = feats.join(pd.get_dummies(feats[['Platform', 'Genre', 'Publisher']]))\n",
    "feats = feats.drop(['Platform', 'Genre', 'Publisher'], axis = 1)"
   ]
  },
  {
   "cell_type": "code",
   "execution_count": null,
   "id": "7183f603",
   "metadata": {},
   "outputs": [],
   "source": [
    "# Séparation en jeux d'entrainement et de test.\n",
    "\n",
    "from sklearn.model_selection import train_test_split\n",
    "X_train, X_test, y_train, y_test = train_test_split(feats, target, test_size=0.2, random_state=12)"
   ]
  },
  {
   "cell_type": "code",
   "execution_count": null,
   "id": "fd03d392",
   "metadata": {},
   "outputs": [],
   "source": [
    "# Standardisation des données\n",
    "\n",
    "from sklearn import preprocessing\n",
    "scaler = preprocessing.MinMaxScaler()\n",
    "X_train = scaler.fit_transform(X_train)\n",
    "X_test = scaler.transform(X_test)\n",
    "\n",
    "y_train = pd.Series(scaler.fit_transform(y_train.values.reshape(-1, 1))[:, 0])\n",
    "y_test = pd.Series(scaler.transform(y_test.values.reshape(-1, 1))[:, 0])"
   ]
  },
  {
   "cell_type": "code",
   "execution_count": null,
   "id": "48e0425b",
   "metadata": {},
   "outputs": [],
   "source": [
    "# Selection des 150 meilleures features\n",
    "\n",
    "from sklearn.feature_selection import SelectKBest\n",
    "from sklearn.feature_selection import f_regression\n",
    "\n",
    "sk = SelectKBest(f_regression, k=150)\n",
    "\n",
    "sk.fit(X_train, y_train)\n",
    "\n",
    "feats.columns[sk.get_support()]\n",
    "\n",
    "sk_train = sk.transform(X_train)\n",
    "sk_test = sk.transform(X_test)"
   ]
  },
  {
   "cell_type": "code",
   "execution_count": null,
   "id": "3d82f266",
   "metadata": {},
   "outputs": [],
   "source": [
    "# Modélisation par Voting Classifier\n",
    "\n",
    "from sklearn.ensemble import GradientBoostingRegressor\n",
    "from sklearn.ensemble import RandomForestRegressor\n",
    "from sklearn.ensemble import VotingRegressor\n",
    "\n",
    "reg1 = GradientBoostingRegressor(random_state=1)\n",
    "reg2 = RandomForestRegressor(random_state=1)\n",
    "reg3 = LinearRegression()\n",
    "model_vot = VotingRegressor(estimators=[('gb', reg1), ('rf', reg2), ('lr', reg3)])\n",
    "model_vot = model_vot.fit(sk_train, y_train)\n",
    "\n",
    "print(\"R2 et RMSE pour l'ensemble train\")\n",
    "print(model_vot.score(sk_train, y_train))\n",
    "y_pred_train = model_vot.predict(sk_train) \n",
    "print(mean_squared_error(y_pred_train, y_train))\n",
    "\n",
    "print(\"\\nR2 et RMSE pour l'ensemble test\")\n",
    "print(model_vot.score(sk_test, y_test))\n",
    "y_pred_test = model_vot.predict(sk_test) \n",
    "print(mean_squared_error(y_pred_test, y_test))"
   ]
  }
 ],
 "metadata": {
  "kernelspec": {
   "display_name": "Python 3",
   "language": "python",
   "name": "python3"
  },
  "language_info": {
   "codemirror_mode": {
    "name": "ipython",
    "version": 3
   },
   "file_extension": ".py",
   "mimetype": "text/x-python",
   "name": "python",
   "nbconvert_exporter": "python",
   "pygments_lexer": "ipython3",
   "version": "3.8.8"
  }
 },
 "nbformat": 4,
 "nbformat_minor": 5
}
